{
 "cells": [
  {
   "cell_type": "code",
   "execution_count": 10,
   "id": "4cea953e",
   "metadata": {},
   "outputs": [],
   "source": [
    "import pandas as pd\n",
    "from sklearn.linear_model import LinearRegression\n",
    "from sklearn.tree import DecisionTreeRegressor\n",
    "from sklearn.ensemble import RandomForestRegressor\n",
    "from sklearn.model_selection import train_test_split"
   ]
  },
  {
   "cell_type": "code",
   "execution_count": 3,
   "id": "b1708969",
   "metadata": {},
   "outputs": [
    {
     "data": {
      "text/html": [
       "<div>\n",
       "<style scoped>\n",
       "    .dataframe tbody tr th:only-of-type {\n",
       "        vertical-align: middle;\n",
       "    }\n",
       "\n",
       "    .dataframe tbody tr th {\n",
       "        vertical-align: top;\n",
       "    }\n",
       "\n",
       "    .dataframe thead th {\n",
       "        text-align: right;\n",
       "    }\n",
       "</style>\n",
       "<table border=\"1\" class=\"dataframe\">\n",
       "  <thead>\n",
       "    <tr style=\"text-align: right;\">\n",
       "      <th></th>\n",
       "      <th>Car Weight (kg)</th>\n",
       "      <th>Engine Size (L)</th>\n",
       "      <th>Number of Cylinders</th>\n",
       "      <th>Horsepower</th>\n",
       "      <th>Car Age (years)</th>\n",
       "      <th>Fuel Efficiency (mpg)</th>\n",
       "    </tr>\n",
       "  </thead>\n",
       "  <tbody>\n",
       "    <tr>\n",
       "      <th>0</th>\n",
       "      <td>855</td>\n",
       "      <td>3.593258</td>\n",
       "      <td>7</td>\n",
       "      <td>433</td>\n",
       "      <td>16</td>\n",
       "      <td>10.039439</td>\n",
       "    </tr>\n",
       "    <tr>\n",
       "      <th>1</th>\n",
       "      <td>1627</td>\n",
       "      <td>3.390346</td>\n",
       "      <td>5</td>\n",
       "      <td>229</td>\n",
       "      <td>5</td>\n",
       "      <td>17.948654</td>\n",
       "    </tr>\n",
       "    <tr>\n",
       "      <th>2</th>\n",
       "      <td>1487</td>\n",
       "      <td>2.820005</td>\n",
       "      <td>11</td>\n",
       "      <td>328</td>\n",
       "      <td>3</td>\n",
       "      <td>30.304928</td>\n",
       "    </tr>\n",
       "    <tr>\n",
       "      <th>3</th>\n",
       "      <td>3764</td>\n",
       "      <td>3.801203</td>\n",
       "      <td>6</td>\n",
       "      <td>368</td>\n",
       "      <td>1</td>\n",
       "      <td>30.903905</td>\n",
       "    </tr>\n",
       "    <tr>\n",
       "      <th>4</th>\n",
       "      <td>3585</td>\n",
       "      <td>2.239086</td>\n",
       "      <td>11</td>\n",
       "      <td>372</td>\n",
       "      <td>10</td>\n",
       "      <td>23.808264</td>\n",
       "    </tr>\n",
       "  </tbody>\n",
       "</table>\n",
       "</div>"
      ],
      "text/plain": [
       "   Car Weight (kg)  Engine Size (L)  Number of Cylinders  Horsepower  \\\n",
       "0              855         3.593258                    7         433   \n",
       "1             1627         3.390346                    5         229   \n",
       "2             1487         2.820005                   11         328   \n",
       "3             3764         3.801203                    6         368   \n",
       "4             3585         2.239086                   11         372   \n",
       "\n",
       "   Car Age (years)  Fuel Efficiency (mpg)  \n",
       "0               16              10.039439  \n",
       "1                5              17.948654  \n",
       "2                3              30.304928  \n",
       "3                1              30.903905  \n",
       "4               10              23.808264  "
      ]
     },
     "execution_count": 3,
     "metadata": {},
     "output_type": "execute_result"
    }
   ],
   "source": [
    "df = pd.read_excel('car_fuel_efficiency.xlsx')\n",
    "df.head()"
   ]
  },
  {
   "cell_type": "code",
   "execution_count": 4,
   "id": "d57f544d",
   "metadata": {},
   "outputs": [
    {
     "name": "stdout",
     "output_type": "stream",
     "text": [
      "<class 'pandas.core.frame.DataFrame'>\n",
      "RangeIndex: 100 entries, 0 to 99\n",
      "Data columns (total 6 columns):\n",
      " #   Column                 Non-Null Count  Dtype  \n",
      "---  ------                 --------------  -----  \n",
      " 0   Car Weight (kg)        100 non-null    int64  \n",
      " 1   Engine Size (L)        100 non-null    float64\n",
      " 2   Number of Cylinders    100 non-null    int64  \n",
      " 3   Horsepower             100 non-null    int64  \n",
      " 4   Car Age (years)        100 non-null    int64  \n",
      " 5   Fuel Efficiency (mpg)  100 non-null    float64\n",
      "dtypes: float64(2), int64(4)\n",
      "memory usage: 4.8 KB\n"
     ]
    }
   ],
   "source": [
    "df.info()"
   ]
  },
  {
   "cell_type": "code",
   "execution_count": 5,
   "id": "2c2987d6",
   "metadata": {},
   "outputs": [
    {
     "data": {
      "text/html": [
       "<div>\n",
       "<style scoped>\n",
       "    .dataframe tbody tr th:only-of-type {\n",
       "        vertical-align: middle;\n",
       "    }\n",
       "\n",
       "    .dataframe tbody tr th {\n",
       "        vertical-align: top;\n",
       "    }\n",
       "\n",
       "    .dataframe thead th {\n",
       "        text-align: right;\n",
       "    }\n",
       "</style>\n",
       "<table border=\"1\" class=\"dataframe\">\n",
       "  <thead>\n",
       "    <tr style=\"text-align: right;\">\n",
       "      <th></th>\n",
       "      <th>Car Weight (kg)</th>\n",
       "      <th>Engine Size (L)</th>\n",
       "      <th>Number of Cylinders</th>\n",
       "      <th>Horsepower</th>\n",
       "      <th>Car Age (years)</th>\n",
       "      <th>Fuel Efficiency (mpg)</th>\n",
       "    </tr>\n",
       "  </thead>\n",
       "  <tbody>\n",
       "    <tr>\n",
       "      <th>count</th>\n",
       "      <td>100.000000</td>\n",
       "      <td>100.000000</td>\n",
       "      <td>100.000000</td>\n",
       "      <td>100.000000</td>\n",
       "      <td>100.000000</td>\n",
       "      <td>100.000000</td>\n",
       "    </tr>\n",
       "    <tr>\n",
       "      <th>mean</th>\n",
       "      <td>2512.950000</td>\n",
       "      <td>3.147257</td>\n",
       "      <td>7.070000</td>\n",
       "      <td>281.890000</td>\n",
       "      <td>9.040000</td>\n",
       "      <td>24.511267</td>\n",
       "    </tr>\n",
       "    <tr>\n",
       "      <th>std</th>\n",
       "      <td>899.861071</td>\n",
       "      <td>1.087315</td>\n",
       "      <td>2.610217</td>\n",
       "      <td>131.609377</td>\n",
       "      <td>5.519332</td>\n",
       "      <td>8.200815</td>\n",
       "    </tr>\n",
       "    <tr>\n",
       "      <th>min</th>\n",
       "      <td>811.000000</td>\n",
       "      <td>1.137102</td>\n",
       "      <td>3.000000</td>\n",
       "      <td>54.000000</td>\n",
       "      <td>1.000000</td>\n",
       "      <td>10.039439</td>\n",
       "    </tr>\n",
       "    <tr>\n",
       "      <th>25%</th>\n",
       "      <td>1764.750000</td>\n",
       "      <td>2.229272</td>\n",
       "      <td>5.000000</td>\n",
       "      <td>186.000000</td>\n",
       "      <td>4.750000</td>\n",
       "      <td>17.521594</td>\n",
       "    </tr>\n",
       "    <tr>\n",
       "      <th>50%</th>\n",
       "      <td>2514.000000</td>\n",
       "      <td>3.440423</td>\n",
       "      <td>7.000000</td>\n",
       "      <td>279.000000</td>\n",
       "      <td>8.000000</td>\n",
       "      <td>24.379989</td>\n",
       "    </tr>\n",
       "    <tr>\n",
       "      <th>75%</th>\n",
       "      <td>3340.750000</td>\n",
       "      <td>4.040964</td>\n",
       "      <td>10.000000</td>\n",
       "      <td>402.000000</td>\n",
       "      <td>14.000000</td>\n",
       "      <td>30.856605</td>\n",
       "    </tr>\n",
       "    <tr>\n",
       "      <th>max</th>\n",
       "      <td>3993.000000</td>\n",
       "      <td>4.902996</td>\n",
       "      <td>11.000000</td>\n",
       "      <td>487.000000</td>\n",
       "      <td>19.000000</td>\n",
       "      <td>38.864366</td>\n",
       "    </tr>\n",
       "  </tbody>\n",
       "</table>\n",
       "</div>"
      ],
      "text/plain": [
       "       Car Weight (kg)  Engine Size (L)  Number of Cylinders  Horsepower  \\\n",
       "count       100.000000       100.000000           100.000000  100.000000   \n",
       "mean       2512.950000         3.147257             7.070000  281.890000   \n",
       "std         899.861071         1.087315             2.610217  131.609377   \n",
       "min         811.000000         1.137102             3.000000   54.000000   \n",
       "25%        1764.750000         2.229272             5.000000  186.000000   \n",
       "50%        2514.000000         3.440423             7.000000  279.000000   \n",
       "75%        3340.750000         4.040964            10.000000  402.000000   \n",
       "max        3993.000000         4.902996            11.000000  487.000000   \n",
       "\n",
       "       Car Age (years)  Fuel Efficiency (mpg)  \n",
       "count       100.000000             100.000000  \n",
       "mean          9.040000              24.511267  \n",
       "std           5.519332               8.200815  \n",
       "min           1.000000              10.039439  \n",
       "25%           4.750000              17.521594  \n",
       "50%           8.000000              24.379989  \n",
       "75%          14.000000              30.856605  \n",
       "max          19.000000              38.864366  "
      ]
     },
     "execution_count": 5,
     "metadata": {},
     "output_type": "execute_result"
    }
   ],
   "source": [
    "df.describe()"
   ]
  },
  {
   "cell_type": "code",
   "execution_count": 6,
   "id": "94140a94",
   "metadata": {},
   "outputs": [
    {
     "data": {
      "text/plain": [
       "Car Weight (kg)          0\n",
       "Engine Size (L)          0\n",
       "Number of Cylinders      0\n",
       "Horsepower               0\n",
       "Car Age (years)          0\n",
       "Fuel Efficiency (mpg)    0\n",
       "dtype: int64"
      ]
     },
     "execution_count": 6,
     "metadata": {},
     "output_type": "execute_result"
    }
   ],
   "source": [
    "df.isnull().sum()"
   ]
  },
  {
   "cell_type": "code",
   "execution_count": 7,
   "id": "58766e29",
   "metadata": {},
   "outputs": [
    {
     "data": {
      "text/html": [
       "<div>\n",
       "<style scoped>\n",
       "    .dataframe tbody tr th:only-of-type {\n",
       "        vertical-align: middle;\n",
       "    }\n",
       "\n",
       "    .dataframe tbody tr th {\n",
       "        vertical-align: top;\n",
       "    }\n",
       "\n",
       "    .dataframe thead th {\n",
       "        text-align: right;\n",
       "    }\n",
       "</style>\n",
       "<table border=\"1\" class=\"dataframe\">\n",
       "  <thead>\n",
       "    <tr style=\"text-align: right;\">\n",
       "      <th></th>\n",
       "      <th>Car Weight (kg)</th>\n",
       "      <th>Engine Size (L)</th>\n",
       "      <th>Number of Cylinders</th>\n",
       "      <th>Horsepower</th>\n",
       "      <th>Car Age (years)</th>\n",
       "      <th>Fuel Efficiency (mpg)</th>\n",
       "    </tr>\n",
       "  </thead>\n",
       "  <tbody>\n",
       "    <tr>\n",
       "      <th>Car Weight (kg)</th>\n",
       "      <td>1.000000</td>\n",
       "      <td>-0.067402</td>\n",
       "      <td>0.147115</td>\n",
       "      <td>-0.115735</td>\n",
       "      <td>-0.195907</td>\n",
       "      <td>-0.060080</td>\n",
       "    </tr>\n",
       "    <tr>\n",
       "      <th>Engine Size (L)</th>\n",
       "      <td>-0.067402</td>\n",
       "      <td>1.000000</td>\n",
       "      <td>-0.123948</td>\n",
       "      <td>0.055295</td>\n",
       "      <td>-0.132809</td>\n",
       "      <td>0.105577</td>\n",
       "    </tr>\n",
       "    <tr>\n",
       "      <th>Number of Cylinders</th>\n",
       "      <td>0.147115</td>\n",
       "      <td>-0.123948</td>\n",
       "      <td>1.000000</td>\n",
       "      <td>-0.034144</td>\n",
       "      <td>0.077630</td>\n",
       "      <td>-0.056425</td>\n",
       "    </tr>\n",
       "    <tr>\n",
       "      <th>Horsepower</th>\n",
       "      <td>-0.115735</td>\n",
       "      <td>0.055295</td>\n",
       "      <td>-0.034144</td>\n",
       "      <td>1.000000</td>\n",
       "      <td>-0.035064</td>\n",
       "      <td>-0.118598</td>\n",
       "    </tr>\n",
       "    <tr>\n",
       "      <th>Car Age (years)</th>\n",
       "      <td>-0.195907</td>\n",
       "      <td>-0.132809</td>\n",
       "      <td>0.077630</td>\n",
       "      <td>-0.035064</td>\n",
       "      <td>1.000000</td>\n",
       "      <td>-0.113195</td>\n",
       "    </tr>\n",
       "    <tr>\n",
       "      <th>Fuel Efficiency (mpg)</th>\n",
       "      <td>-0.060080</td>\n",
       "      <td>0.105577</td>\n",
       "      <td>-0.056425</td>\n",
       "      <td>-0.118598</td>\n",
       "      <td>-0.113195</td>\n",
       "      <td>1.000000</td>\n",
       "    </tr>\n",
       "  </tbody>\n",
       "</table>\n",
       "</div>"
      ],
      "text/plain": [
       "                       Car Weight (kg)  Engine Size (L)  Number of Cylinders  \\\n",
       "Car Weight (kg)               1.000000        -0.067402             0.147115   \n",
       "Engine Size (L)              -0.067402         1.000000            -0.123948   \n",
       "Number of Cylinders           0.147115        -0.123948             1.000000   \n",
       "Horsepower                   -0.115735         0.055295            -0.034144   \n",
       "Car Age (years)              -0.195907        -0.132809             0.077630   \n",
       "Fuel Efficiency (mpg)        -0.060080         0.105577            -0.056425   \n",
       "\n",
       "                       Horsepower  Car Age (years)  Fuel Efficiency (mpg)  \n",
       "Car Weight (kg)         -0.115735        -0.195907              -0.060080  \n",
       "Engine Size (L)          0.055295        -0.132809               0.105577  \n",
       "Number of Cylinders     -0.034144         0.077630              -0.056425  \n",
       "Horsepower               1.000000        -0.035064              -0.118598  \n",
       "Car Age (years)         -0.035064         1.000000              -0.113195  \n",
       "Fuel Efficiency (mpg)   -0.118598        -0.113195               1.000000  "
      ]
     },
     "execution_count": 7,
     "metadata": {},
     "output_type": "execute_result"
    }
   ],
   "source": [
    "corr_matrix = df.corr()\n",
    "corr_matrix"
   ]
  },
  {
   "cell_type": "code",
   "execution_count": 8,
   "id": "2342ea20",
   "metadata": {},
   "outputs": [
    {
     "name": "stdout",
     "output_type": "stream",
     "text": [
      "    Car Weight (kg)  Engine Size (L)  Number of Cylinders  Horsepower  \\\n",
      "0               855         3.593258                    7         433   \n",
      "1              1627         3.390346                    5         229   \n",
      "2              1487         2.820005                   11         328   \n",
      "3              3764         3.801203                    6         368   \n",
      "4              3585         2.239086                   11         372   \n",
      "..              ...              ...                  ...         ...   \n",
      "95             1768         3.919993                    8         461   \n",
      "96             2711         3.574219                    7         402   \n",
      "97             2977         1.966789                    5         208   \n",
      "98             2212         2.378990                   11          82   \n",
      "99             2774         2.199827                    5         357   \n",
      "\n",
      "    Car Age (years)  \n",
      "0                16  \n",
      "1                 5  \n",
      "2                 3  \n",
      "3                 1  \n",
      "4                10  \n",
      "..              ...  \n",
      "95                8  \n",
      "96               13  \n",
      "97                7  \n",
      "98                6  \n",
      "99                1  \n",
      "\n",
      "[100 rows x 5 columns]\n",
      "0     10.039439\n",
      "1     17.948654\n",
      "2     30.304928\n",
      "3     30.903905\n",
      "4     23.808264\n",
      "        ...    \n",
      "95    16.364987\n",
      "96    30.592300\n",
      "97    17.769197\n",
      "98    29.530855\n",
      "99    30.758263\n",
      "Name: Fuel Efficiency (mpg), Length: 100, dtype: float64\n"
     ]
    }
   ],
   "source": [
    "X = df.iloc[:,:-1]\n",
    "y = df.iloc[:,-1]\n",
    "\n",
    "print(X)\n",
    "print(y)"
   ]
  },
  {
   "cell_type": "code",
   "execution_count": 11,
   "id": "c7b75b3e",
   "metadata": {},
   "outputs": [],
   "source": [
    "X_train, X_test, y_train, y_test = train_test_split(X, y, test_size = 0.3, random_state=42)"
   ]
  },
  {
   "cell_type": "code",
   "execution_count": 12,
   "id": "0ea3d7a3",
   "metadata": {},
   "outputs": [],
   "source": [
    "lr_model = LinearRegression()\n",
    "dt_model = DecisionTreeRegressor()\n",
    "rf_model = RandomForestRegressor()"
   ]
  },
  {
   "cell_type": "code",
   "execution_count": 13,
   "id": "a48f8f4f",
   "metadata": {},
   "outputs": [
    {
     "data": {
      "text/html": [
       "<style>#sk-container-id-1 {color: black;}#sk-container-id-1 pre{padding: 0;}#sk-container-id-1 div.sk-toggleable {background-color: white;}#sk-container-id-1 label.sk-toggleable__label {cursor: pointer;display: block;width: 100%;margin-bottom: 0;padding: 0.3em;box-sizing: border-box;text-align: center;}#sk-container-id-1 label.sk-toggleable__label-arrow:before {content: \"▸\";float: left;margin-right: 0.25em;color: #696969;}#sk-container-id-1 label.sk-toggleable__label-arrow:hover:before {color: black;}#sk-container-id-1 div.sk-estimator:hover label.sk-toggleable__label-arrow:before {color: black;}#sk-container-id-1 div.sk-toggleable__content {max-height: 0;max-width: 0;overflow: hidden;text-align: left;background-color: #f0f8ff;}#sk-container-id-1 div.sk-toggleable__content pre {margin: 0.2em;color: black;border-radius: 0.25em;background-color: #f0f8ff;}#sk-container-id-1 input.sk-toggleable__control:checked~div.sk-toggleable__content {max-height: 200px;max-width: 100%;overflow: auto;}#sk-container-id-1 input.sk-toggleable__control:checked~label.sk-toggleable__label-arrow:before {content: \"▾\";}#sk-container-id-1 div.sk-estimator input.sk-toggleable__control:checked~label.sk-toggleable__label {background-color: #d4ebff;}#sk-container-id-1 div.sk-label input.sk-toggleable__control:checked~label.sk-toggleable__label {background-color: #d4ebff;}#sk-container-id-1 input.sk-hidden--visually {border: 0;clip: rect(1px 1px 1px 1px);clip: rect(1px, 1px, 1px, 1px);height: 1px;margin: -1px;overflow: hidden;padding: 0;position: absolute;width: 1px;}#sk-container-id-1 div.sk-estimator {font-family: monospace;background-color: #f0f8ff;border: 1px dotted black;border-radius: 0.25em;box-sizing: border-box;margin-bottom: 0.5em;}#sk-container-id-1 div.sk-estimator:hover {background-color: #d4ebff;}#sk-container-id-1 div.sk-parallel-item::after {content: \"\";width: 100%;border-bottom: 1px solid gray;flex-grow: 1;}#sk-container-id-1 div.sk-label:hover label.sk-toggleable__label {background-color: #d4ebff;}#sk-container-id-1 div.sk-serial::before {content: \"\";position: absolute;border-left: 1px solid gray;box-sizing: border-box;top: 0;bottom: 0;left: 50%;z-index: 0;}#sk-container-id-1 div.sk-serial {display: flex;flex-direction: column;align-items: center;background-color: white;padding-right: 0.2em;padding-left: 0.2em;position: relative;}#sk-container-id-1 div.sk-item {position: relative;z-index: 1;}#sk-container-id-1 div.sk-parallel {display: flex;align-items: stretch;justify-content: center;background-color: white;position: relative;}#sk-container-id-1 div.sk-item::before, #sk-container-id-1 div.sk-parallel-item::before {content: \"\";position: absolute;border-left: 1px solid gray;box-sizing: border-box;top: 0;bottom: 0;left: 50%;z-index: -1;}#sk-container-id-1 div.sk-parallel-item {display: flex;flex-direction: column;z-index: 1;position: relative;background-color: white;}#sk-container-id-1 div.sk-parallel-item:first-child::after {align-self: flex-end;width: 50%;}#sk-container-id-1 div.sk-parallel-item:last-child::after {align-self: flex-start;width: 50%;}#sk-container-id-1 div.sk-parallel-item:only-child::after {width: 0;}#sk-container-id-1 div.sk-dashed-wrapped {border: 1px dashed gray;margin: 0 0.4em 0.5em 0.4em;box-sizing: border-box;padding-bottom: 0.4em;background-color: white;}#sk-container-id-1 div.sk-label label {font-family: monospace;font-weight: bold;display: inline-block;line-height: 1.2em;}#sk-container-id-1 div.sk-label-container {text-align: center;}#sk-container-id-1 div.sk-container {/* jupyter's `normalize.less` sets `[hidden] { display: none; }` but bootstrap.min.css set `[hidden] { display: none !important; }` so we also need the `!important` here to be able to override the default hidden behavior on the sphinx rendered scikit-learn.org. See: https://github.com/scikit-learn/scikit-learn/issues/21755 */display: inline-block !important;position: relative;}#sk-container-id-1 div.sk-text-repr-fallback {display: none;}</style><div id=\"sk-container-id-1\" class=\"sk-top-container\"><div class=\"sk-text-repr-fallback\"><pre>RandomForestRegressor()</pre><b>In a Jupyter environment, please rerun this cell to show the HTML representation or trust the notebook. <br />On GitHub, the HTML representation is unable to render, please try loading this page with nbviewer.org.</b></div><div class=\"sk-container\" hidden><div class=\"sk-item\"><div class=\"sk-estimator sk-toggleable\"><input class=\"sk-toggleable__control sk-hidden--visually\" id=\"sk-estimator-id-1\" type=\"checkbox\" checked><label for=\"sk-estimator-id-1\" class=\"sk-toggleable__label sk-toggleable__label-arrow\">RandomForestRegressor</label><div class=\"sk-toggleable__content\"><pre>RandomForestRegressor()</pre></div></div></div></div></div>"
      ],
      "text/plain": [
       "RandomForestRegressor()"
      ]
     },
     "execution_count": 13,
     "metadata": {},
     "output_type": "execute_result"
    }
   ],
   "source": [
    "lr_model.fit(X_train, y_train)\n",
    "dt_model.fit(X_train, y_train)\n",
    "rf_model.fit(X_train, y_train)"
   ]
  },
  {
   "cell_type": "code",
   "execution_count": 15,
   "id": "8d35ebcf",
   "metadata": {},
   "outputs": [],
   "source": [
    "lr_pred = lr_model.predict(X_test)\n",
    "dt_pred = dt_model.predict(X_test)\n",
    "rf_pred = rf_model.predict(X_test)"
   ]
  },
  {
   "cell_type": "code",
   "execution_count": 16,
   "id": "a1678bb4",
   "metadata": {},
   "outputs": [
    {
     "name": "stdout",
     "output_type": "stream",
     "text": [
      "[25.86960024 25.93743991 24.68205535 28.26671813 29.34097589 25.50588126\n",
      " 22.7526404  21.17409102 23.64278407 24.84216255 25.34791857 21.0064313\n",
      " 22.69230307 22.88104393 26.1962871  21.88656526 21.23668581 26.74113672\n",
      " 22.53350769 27.31650404 25.84418779 25.00093091 24.41582456 25.34483352\n",
      " 28.26133274 26.12861229 24.29915676 23.41451619 22.85336923 27.67497516]\n"
     ]
    }
   ],
   "source": [
    "print(lr_pred)"
   ]
  },
  {
   "cell_type": "code",
   "execution_count": 17,
   "id": "d22de8a7",
   "metadata": {},
   "outputs": [
    {
     "name": "stdout",
     "output_type": "stream",
     "text": [
      "[27.53492741 12.96400295 29.53085463 28.22922982 26.66467301 12.96400295\n",
      " 28.1634109  11.54332625 37.92592192 23.06455403 10.64214363 21.24462254\n",
      " 24.24803183 26.66467301 28.22922982 24.24803183 24.4881326  26.66467301\n",
      " 16.36498745 16.36498745 11.86006608 12.96400295 11.54332625 37.67930145\n",
      " 15.14864435 26.66467301 34.25993578 23.06455403 15.87472258 29.53085463]\n"
     ]
    }
   ],
   "source": [
    "print(dt_pred)"
   ]
  },
  {
   "cell_type": "code",
   "execution_count": 18,
   "id": "931ad12a",
   "metadata": {},
   "outputs": [
    {
     "name": "stdout",
     "output_type": "stream",
     "text": [
      "[25.92787017 26.07066817 27.66228999 29.01227675 27.1025268  26.41911418\n",
      " 29.14605367 15.75353087 25.92359017 23.04877371 21.1652869  21.05300248\n",
      " 24.2704694  23.24810273 24.54717867 26.78867799 20.52894714 27.67183294\n",
      " 18.72501263 24.724536   28.21988933 26.0365036  20.33662669 25.4773326\n",
      " 29.966906   23.3184759  25.47049507 28.70022522 21.31083748 27.24499967]\n"
     ]
    }
   ],
   "source": [
    "print(rf_pred)"
   ]
  },
  {
   "cell_type": "code",
   "execution_count": 19,
   "id": "c352ac40",
   "metadata": {},
   "outputs": [
    {
     "name": "stdout",
     "output_type": "stream",
     "text": [
      "Linear Regression 75.71152451238781\n",
      "Decision Tree Regressor 176.26879107789202\n",
      "Random Forest Regressor 88.58318797644795\n",
      "\n",
      "\n",
      "Linear Regression -0.08809123818406173\n",
      "Decision Tree Regressor -1.5332540636633163\n",
      "Random Forest Regressor -0.2730768705075286\n"
     ]
    }
   ],
   "source": [
    "from sklearn.metrics import mean_squared_error\n",
    "from sklearn.metrics import r2_score\n",
    "\n",
    "print('Linear Regression', mean_squared_error(y_test, lr_pred))\n",
    "print('Decision Tree Regressor', mean_squared_error(y_test, dt_pred))\n",
    "print('Random Forest Regressor', mean_squared_error(y_test, rf_pred))\n",
    "\n",
    "print('\\n')\n",
    "\n",
    "print('Linear Regression', r2_score(y_test, lr_pred))\n",
    "print('Decision Tree Regressor', r2_score(y_test, dt_pred))\n",
    "print('Random Forest Regressor', r2_score(y_test, rf_pred))"
   ]
  },
  {
   "cell_type": "code",
   "execution_count": 20,
   "id": "474ae93a",
   "metadata": {},
   "outputs": [
    {
     "name": "stdout",
     "output_type": "stream",
     "text": [
      "Best alpha for Ridge: {'alpha': 100}\n",
      "Best cross-validated score (MSE) for Ridge: -76.00492035861232\n",
      "\n",
      "\n",
      "Best alpha for Lasso: {'alpha': 100}\n",
      "Best cross-validated score (MSE) for Lasso: -72.1224712307799\n"
     ]
    }
   ],
   "source": [
    "from sklearn.linear_model import Ridge\n",
    "from sklearn.linear_model import Lasso\n",
    "from sklearn.model_selection import GridSearchCV\n",
    "\n",
    "ridge = Ridge()\n",
    "lasso = Lasso()\n",
    "\n",
    "param_grid = {'alpha': [0.01, 0.1, 1, 10, 100]}\n",
    "\n",
    "ridge_cv = GridSearchCV(ridge, param_grid, cv=5, scoring='neg_mean_squared_error')\n",
    "lasso_cv = GridSearchCV(lasso, param_grid, cv=5, scoring='neg_mean_squared_error')\n",
    "\n",
    "ridge_cv.fit(X_train, y_train)\n",
    "lasso_cv.fit(X_train, y_train)\n",
    "\n",
    "print(\"Best alpha for Ridge:\", ridge_cv.best_params_)\n",
    "print(\"Best cross-validated score (MSE) for Ridge:\", ridge_cv.best_score_)\n",
    "print('\\n')\n",
    "print(\"Best alpha for Lasso:\", lasso_cv.best_params_)\n",
    "print(\"Best cross-validated score (MSE) for Lasso:\", lasso_cv.best_score_)\n"
   ]
  },
  {
   "cell_type": "code",
   "execution_count": 21,
   "id": "e07b28c1",
   "metadata": {},
   "outputs": [
    {
     "name": "stdout",
     "output_type": "stream",
     "text": [
      "Ridge 72.76703777337912\n",
      "Lasso 72.27325530407238\n",
      "\n",
      "\n",
      "Ridge -0.04577442786623065\n",
      "Lasso -0.03867801312776331\n"
     ]
    }
   ],
   "source": [
    "rid_pred = ridge_cv.predict(X_test)\n",
    "lasso_pred = lasso_cv.predict(X_test)\n",
    "\n",
    "print('Ridge', mean_squared_error(y_test, rid_pred))\n",
    "print('Lasso', mean_squared_error(y_test, lasso_pred))\n",
    "\n",
    "print('\\n')\n",
    "\n",
    "print('Ridge', r2_score(y_test, rid_pred))\n",
    "print('Lasso', r2_score(y_test, lasso_pred))"
   ]
  },
  {
   "cell_type": "code",
   "execution_count": 22,
   "id": "03bf4596",
   "metadata": {},
   "outputs": [
    {
     "name": "stdout",
     "output_type": "stream",
     "text": [
      "Best parameters: {'criterion': 'poisson', 'max_depth': 4, 'max_features': 'log2', 'splitter': 'random'}\n",
      "Best score (negative MSE): -57.84795687597521\n"
     ]
    }
   ],
   "source": [
    "parameter = {\n",
    "    'criterion': ['squared_error', 'friedman_mse', 'absolute_error', 'poisson'],  # These are valid for regressor\n",
    "    'splitter': ['best', 'random'],\n",
    "    'max_depth': [1, 2, 3, 4, 5],\n",
    "    'max_features': ['sqrt', 'log2', None]  # 'auto' is not valid, use None for all features\n",
    "}\n",
    "\n",
    "cv = GridSearchCV(dt_model, param_grid=parameter, cv=5, scoring='neg_mean_squared_error')  # For regression, use 'neg_mean_squared_error'\n",
    "\n",
    "cv.fit(X_train, y_train)\n",
    "\n",
    "# Best parameters and score\n",
    "print(\"Best parameters:\", cv.best_params_)\n",
    "print(\"Best score (negative MSE):\", cv.best_score_)"
   ]
  },
  {
   "cell_type": "code",
   "execution_count": 23,
   "id": "4929a467",
   "metadata": {},
   "outputs": [
    {
     "name": "stdout",
     "output_type": "stream",
     "text": [
      "Preprunning 85.72829518038412\n",
      "\n",
      "\n",
      "Preprunning -0.23204766316613412\n"
     ]
    }
   ],
   "source": [
    "pre_dt_pred = cv.predict(X_test)\n",
    "\n",
    "print('Preprunning', mean_squared_error(y_test, pre_dt_pred))\n",
    "\n",
    "print('\\n')\n",
    "\n",
    "print('Preprunning', r2_score(y_test, pre_dt_pred))\n"
   ]
  },
  {
   "cell_type": "code",
   "execution_count": null,
   "id": "359febaf",
   "metadata": {},
   "outputs": [],
   "source": []
  }
 ],
 "metadata": {
  "kernelspec": {
   "display_name": "Python 3 (ipykernel)",
   "language": "python",
   "name": "python3"
  },
  "language_info": {
   "codemirror_mode": {
    "name": "ipython",
    "version": 3
   },
   "file_extension": ".py",
   "mimetype": "text/x-python",
   "name": "python",
   "nbconvert_exporter": "python",
   "pygments_lexer": "ipython3",
   "version": "3.11.5"
  }
 },
 "nbformat": 4,
 "nbformat_minor": 5
}
